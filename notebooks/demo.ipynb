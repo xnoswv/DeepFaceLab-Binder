# DeepFaceLab Binder Python - نسخة محدثة تعمل على Colab و Binder

import os
import sys

# محاولة ربط Google Drive فقط إذا كنا على Colab
try:
    from google.colab import drive
    print("تشغيل على Colab: سيتم ربط Google Drive")
    drive.mount('/content/drive')
    project_dir = '/content/drive/MyDrive/DeepFaceLabProject'
except ImportError:
    print("ليس على Colab: سيتم استخدام مجلد محلي")
    project_dir = './DeepFaceLabProject'

# إنشاء المجلد إذا لم يكن موجودًا
os.makedirs(project_dir, exist_ok=True)

# تثبيت المتطلبات الأساسية
try:
    os.system('pip install --upgrade pip')
    os.system('pip install numpy opencv-python torch torchvision tqdm')
except:
    print("تخطي تثبيت المتطلبات، قد تكون مثبتة مسبقًا")

# تحميل DeepFaceLab Repository
repo_url = 'https://github.com/xnoswv/DeepFaceLab-Binder.git'
repo_dir = os.path.join(project_dir, 'DeepFaceLab-Binder')

if not os.path.exists(repo_dir):
    os.system(f'git clone {repo_url} {repo_dir}')

# إعداد مجلد الموديلات
models_dir = os.path.join(project_dir, 'models')
os.makedirs(models_dir, exist_ok=True)

# إضافة مسار المستودع
sys.path.append(repo_dir)

print('DeepFaceLab جاهز للعمل! ✅')
