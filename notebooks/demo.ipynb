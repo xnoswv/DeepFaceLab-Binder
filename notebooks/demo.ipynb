# DeepFaceLab Python Script - Binder-ready

import os
import sys
import subprocess

# مجلد المشروع في Binder
project_dir = './DeepFaceLabProject'
os.makedirs(project_dir, exist_ok=True)

# دالة لتثبيت الحزم
def install_packages(packages):
    for package in packages:
        try:
            subprocess.check_call([sys.executable, '-m', 'pip', 'install', package])
        except Exception as e:
            print(f'تخطي تثبيت {package}، ربما مثبت مسبقًا أو حدث خطأ: {e}')

# تثبيت الحزم المطلوبة
install_packages(['numpy', 'opencv-python', 'torch', 'torchvision', 'tqdm'])

# تحميل DeepFaceLab Repository
repo_url = 'https://github.com/xnoswv/DeepFaceLab-Binder.git'
repo_dir = os.path.join(project_dir, 'DeepFaceLab-Binder')

if not os.path.exists(repo_dir):
    subprocess.run(['git', 'clone', repo_url, repo_dir])

# إعداد مجلد الموديلات
models_dir = os.path.join(project_dir, 'models')
os.makedirs(models_dir, exist_ok=True)

# إضافة مسار المستودع
sys.path.append(repo_dir)

print("DeepFaceLab جاهز للعمل على Binder! ✅")# إضافة مسار المستودع
sys.path.append(repo_dir)

print('DeepFaceLab جاهز للعمل! ✅')
