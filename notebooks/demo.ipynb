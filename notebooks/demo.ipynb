DeepFaceLab Binder Notebook

====================================

هذا Notebook جاهز لتشغيل DeepFaceLab على Binder مع ربط Google Drive

1️⃣ ربط Google Drive

from google.colab import drive import os

drive.mount('/content/drive')

ضع مسار مجلد المشروع على Google Drive هنا

project_dir = '/content/drive/MyDrive/DeepFaceLabProject' os.makedirs(project_dir, exist_ok=True)

2️⃣ تثبيت المتطلبات الأساسية

!pip install --upgrade pip !pip install numpy opencv-python torch torchvision tqdm

3️⃣ تحميل DeepFaceLab Repository

repo_url = 'https://github.com/xnoswv/DeepFaceLab-Binder.git' repo_dir = os.path.join(project_dir, 'DeepFaceLab-Binder')

if not os.path.exists(repo_dir): !git clone {repo_url} {repo_dir}

4️⃣ تحميل موديلات ArcFace أو أي موديلات أخرى

models_dir = os.path.join(project_dir, 'models') os.makedirs(models_dir, exist_ok=True)

مثال لتحميل موديل جاهز

!wget -O {os.path.join(models_dir, 'arcface_model.pth')} 'رابط_الموديل_هنا'

5️⃣ إعداد بيئة DeepFaceLab

import sys sys.path.append(repo_dir)

6️⃣ أمثلة على تشغيل سكربتات DeepFaceLab

استبدال الوجه

!python3 {os.path.join(repo_dir, 'main.py')} --mode extract --input-dir {project_dir}/input --output-dir {project_dir}/workspace

يمكنك تكرار نفس الطريقة لأي سكربت آخر

print('الـ Notebook جاهز للعمل!')

